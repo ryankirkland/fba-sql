{
 "cells": [
  {
   "cell_type": "markdown",
   "metadata": {},
   "source": [
    "# Assignment: Amazon FBA Order Data Analysis\n",
    "\n",
    "Your assignment is to answer the following questions from the brand about their Amazon account using Python and the appropriate libraries. Where appropriate, please include visualizations with explanations. Functions should include docstrings. All work can be done within the Jupyter Notebook, but feel free to create separate files to store functions if preferred.\n",
    "\n",
    "Hint: Think about possible unique identifiers.\n",
    "\n",
    "You may use any libraries you prefer. Your data is contained in the orders.csv and returns.csv files in the data folder."
   ]
  },
  {
   "cell_type": "code",
   "execution_count": 1,
   "metadata": {},
   "outputs": [
    {
     "data": {
      "text/plain": [
       "'LOAD YOUR LIBRARIES HERE'"
      ]
     },
     "execution_count": 1,
     "metadata": {},
     "output_type": "execute_result"
    }
   ],
   "source": [
    "\"LOAD YOUR LIBRARIES HERE\""
   ]
  },
  {
   "cell_type": "code",
   "execution_count": 2,
   "metadata": {},
   "outputs": [
    {
     "data": {
      "text/plain": [
       "'LOAD YOUR DATA HERE'"
      ]
     },
     "execution_count": 2,
     "metadata": {},
     "output_type": "execute_result"
    }
   ],
   "source": [
    "\"LOAD YOUR DATA HERE\""
   ]
  },
  {
   "cell_type": "markdown",
   "metadata": {},
   "source": [
    "### Before you begin: Get to know your dataset.\n",
    "\n",
    "Check out the columns and values. Notice anything about the data types? Look at how columns may relate to each other. (Hint: Notice anything weird about the 'item-price' values?)"
   ]
  },
  {
   "cell_type": "code",
   "execution_count": null,
   "metadata": {},
   "outputs": [],
   "source": []
  },
  {
   "cell_type": "markdown",
   "metadata": {},
   "source": [
    "### Question 1: How much revenue have we made this year?"
   ]
  },
  {
   "cell_type": "code",
   "execution_count": null,
   "metadata": {},
   "outputs": [],
   "source": []
  },
  {
   "cell_type": "markdown",
   "metadata": {},
   "source": [
    "<details>\n",
    "    <summary>\n",
    "        Expected Result:\n",
    "    </summary>\n",
    "    <p>\n",
    "        106672.59\n",
    "    </p>\n",
    "</details>"
   ]
  },
  {
   "cell_type": "markdown",
   "metadata": {},
   "source": [
    "### Question 2: What is our best selling SKU year-to-date?\n",
    "\n",
    "Please provide the appropriate visual."
   ]
  },
  {
   "cell_type": "code",
   "execution_count": null,
   "metadata": {},
   "outputs": [],
   "source": []
  },
  {
   "cell_type": "markdown",
   "metadata": {},
   "source": [
    "<details>\n",
    "    <summary>\n",
    "        Expected Result:\n",
    "    </summary>\n",
    "    <p>\n",
    "        PB-AAA (A visual showing all SKU sales would be helpful here)\n",
    "    </p>\n",
    "</details>"
   ]
  },
  {
   "cell_type": "markdown",
   "metadata": {},
   "source": [
    "### Question 3: What is our most returned SKU YTD?\n",
    "\n",
    "Please provide the appropriate visual."
   ]
  },
  {
   "cell_type": "code",
   "execution_count": null,
   "metadata": {},
   "outputs": [],
   "source": []
  },
  {
   "cell_type": "markdown",
   "metadata": {},
   "source": [
    "<details>\n",
    "    <summary>\n",
    "        Expected Result:\n",
    "    </summary>\n",
    "    <p>\n",
    "        PB-AAA (A visual showing all SKU sales would be helpful here)\n",
    "    </p>\n",
    "</details>"
   ]
  },
  {
   "cell_type": "markdown",
   "metadata": {},
   "source": [
    "### Question 4: What is our overall return rate?"
   ]
  },
  {
   "cell_type": "code",
   "execution_count": null,
   "metadata": {},
   "outputs": [],
   "source": []
  },
  {
   "cell_type": "markdown",
   "metadata": {},
   "source": [
    "<details>\n",
    "    <summary>\n",
    "        Expected Result:\n",
    "    </summary>\n",
    "    <p>\n",
    "        0.0297\n",
    "    </p>\n",
    "</details>"
   ]
  },
  {
   "cell_type": "markdown",
   "metadata": {},
   "source": [
    "### Question 5: What is our return rate per product?\n",
    "\n",
    "Please provide the appropriate visual."
   ]
  },
  {
   "cell_type": "code",
   "execution_count": null,
   "metadata": {},
   "outputs": [],
   "source": []
  },
  {
   "cell_type": "markdown",
   "metadata": {},
   "source": [
    "<details>\n",
    "    <summary>\n",
    "        Expected Result:\n",
    "    </summary>\n",
    "    \n",
    "            - PB-9VBAT\t0.019608\n",
    "            - PB-AA\t0.029830\n",
    "            - PB-AAA\t0.035011\n",
    "            - PB-DBAT\t0.000000\n",
    "            - PB-SB\t0.000000\n",
    "            - PB-SB2\t0.010638\n",
    "</details>"
   ]
  },
  {
   "cell_type": "markdown",
   "metadata": {},
   "source": [
    "### Question 6: How many unique customers do we have?"
   ]
  },
  {
   "cell_type": "code",
   "execution_count": null,
   "metadata": {},
   "outputs": [],
   "source": []
  },
  {
   "cell_type": "markdown",
   "metadata": {},
   "source": [
    "<details>\n",
    "    <summary>\n",
    "        Expected Result:\n",
    "    </summary>\n",
    "    <p>\n",
    "        2398\n",
    "    </p>\n",
    "</details>"
   ]
  },
  {
   "cell_type": "markdown",
   "metadata": {},
   "source": [
    "### Question 7: How do sales look over time YTD? What were our 5 best selling days by units?\n",
    "\n",
    "Please provide visuals of sales over time by day and our best 5 days."
   ]
  },
  {
   "cell_type": "code",
   "execution_count": null,
   "metadata": {},
   "outputs": [],
   "source": []
  },
  {
   "cell_type": "markdown",
   "metadata": {},
   "source": [
    "<details>\n",
    "    <summary>\n",
    "        Expected Result:\n",
    "    </summary>\n",
    "    \n",
    "    - 2020-11-16     37\n",
    "    - 2020-11-02     37\n",
    "    - 2020-11-28     37\n",
    "    - 2020-10-14     70\n",
    "    - 2020-10-13    127\n",
    "</details>"
   ]
  },
  {
   "cell_type": "markdown",
   "metadata": {},
   "source": [
    "### Question 8: Where are the majority of our units sold being shipped?\n",
    "\n",
    "This will require some data cleaning. I would like to see data aggreggated by state - bonus points if you're able to provide a visual."
   ]
  },
  {
   "cell_type": "code",
   "execution_count": null,
   "metadata": {},
   "outputs": [],
   "source": []
  },
  {
   "cell_type": "markdown",
   "metadata": {},
   "source": [
    "<details>\n",
    "    <summary>\n",
    "        Expected Result:\n",
    "    </summary>\n",
    "    <p>\n",
    "        CA, FL, TX, NY, WA \n",
    "    </p>\n",
    "</details>"
   ]
  },
  {
   "cell_type": "markdown",
   "metadata": {},
   "source": [
    "### Question 9: What percentage of our customers have purchased more than one unit?"
   ]
  },
  {
   "cell_type": "code",
   "execution_count": null,
   "metadata": {},
   "outputs": [],
   "source": []
  },
  {
   "cell_type": "markdown",
   "metadata": {},
   "source": [
    "<details>\n",
    "    <summary>\n",
    "        Expected Result:\n",
    "    </summary>\n",
    "    <p>\n",
    "        0.303\n",
    "    </p>\n",
    "</details>"
   ]
  },
  {
   "cell_type": "markdown",
   "metadata": {},
   "source": [
    "### Question 10: What percentage of our customers have ordered on more than one occasion? (What is our repeat buyer rate?)"
   ]
  },
  {
   "cell_type": "code",
   "execution_count": null,
   "metadata": {},
   "outputs": [],
   "source": []
  },
  {
   "cell_type": "markdown",
   "metadata": {},
   "source": [
    "<details>\n",
    "    <summary>\n",
    "        Expected Result:\n",
    "    </summary>\n",
    "    <p>\n",
    "        0.133\n",
    "    </p>\n",
    "</details>"
   ]
  },
  {
   "cell_type": "markdown",
   "metadata": {},
   "source": [
    "### Question 11: What is our average customer lifetime value of a repeat buyer?"
   ]
  },
  {
   "cell_type": "code",
   "execution_count": null,
   "metadata": {},
   "outputs": [],
   "source": []
  },
  {
   "cell_type": "markdown",
   "metadata": {},
   "source": [
    "<details>\n",
    "    <summary>\n",
    "        Expected Result:\n",
    "    </summary>\n",
    "    <p>\n",
    "        90.938\n",
    "    </p>\n",
    "</details>"
   ]
  },
  {
   "cell_type": "markdown",
   "metadata": {},
   "source": [
    "### Question 12: How long does it take for our repeat buyers to purchase their second order?"
   ]
  },
  {
   "cell_type": "code",
   "execution_count": null,
   "metadata": {},
   "outputs": [],
   "source": []
  },
  {
   "cell_type": "markdown",
   "metadata": {},
   "source": [
    "<details>\n",
    "    <summary>\n",
    "        Expected Result:\n",
    "    </summary>\n",
    "    <p>\n",
    "        34 days\n",
    "    </p>\n",
    "</details>"
   ]
  },
  {
   "cell_type": "code",
   "execution_count": null,
   "metadata": {},
   "outputs": [],
   "source": []
  }
 ],
 "metadata": {
  "kernelspec": {
   "display_name": "Python 3",
   "language": "python",
   "name": "python3"
  },
  "language_info": {
   "codemirror_mode": {
    "name": "ipython",
    "version": 3
   },
   "file_extension": ".py",
   "mimetype": "text/x-python",
   "name": "python",
   "nbconvert_exporter": "python",
   "pygments_lexer": "ipython3",
   "version": "3.7.3"
  }
 },
 "nbformat": 4,
 "nbformat_minor": 2
}
